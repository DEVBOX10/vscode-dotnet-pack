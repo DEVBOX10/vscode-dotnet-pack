{
 "cells": [
  {
   "cell_type": "code",
   "execution_count": null,
   "metadata": {
    "dotnet_interactive": {
     "language": "csharp"
    }
   },
   "outputs": [],
   "source": []
  },
  {
   "cell_type": "markdown",
   "metadata": {},
   "source": [
    "# Get Started with C# for Beginners\n",
    "\n",
    "Welcome to .NET Interactive and your first C# notebook. C# is an programming language that you can use to make many different types of programs including websites, games, and mobile applications. Let's explore some of the basics of using C# in this notebook and write your first .NET code!\n",
    "\n",
    "Just click the run icon in a code cell to execute it, or hit the key command."
   ]
  },
  {
   "cell_type": "markdown",
   "metadata": {},
   "source": [
    "## C# Syntax Basics\n",
    "\n",
    "C# allows you to insert as much space as you would like between commands that you write.  You can use tabs or spaces to format your C# code to make it easier for us humans to read.  Complete lines of code, or **statements**, need to end with a semicolon so that the C# **compiler** knows that we have completed giving it an instruction.\n",
    "\n",
    "A **compiler** turns our C# statements into a file that a computer can execute.\n",
    "\n",
    "Let's write our first line of C# code, a simple \"hello world\" statement in C#:"
   ]
  },
  {
   "cell_type": "code",
   "execution_count": null,
   "metadata": {
    "dotnet_interactive": {
     "language": "csharp"
    }
   },
   "outputs": [
    {
     "data": {
      "text/plain": "Hello, world!\n"
     },
     "output_type": "unknown"
    }
   ],
   "source": [
    "Console.WriteLine(\"Hello, world!\");"
   ]
  },
  {
   "cell_type": "markdown",
   "metadata": {},
   "source": [
    "Let's review what happened there.  **Console.WriteLine** is an instruction that tells C# to write the contents of the parenthesis **( )**. We include some text, referred to as a **string** enclosed in double-quotes that we would like C# to write for us."
   ]
  },
  {
   "cell_type": "markdown",
   "metadata": {},
   "source": [
    "## Introducing Variables\r\n",
    "\r\n",
    "We can instruct C# to store values in memory using **variables**.  A variable can store a value that we **assign** to it using the `=` operator.  \r\n",
    "\r\n",
    "Let's define a variable of type `string` called `aFriend` and store the name \"Bill\".  "
   ]
  },
  {
   "cell_type": "code",
   "execution_count": null,
   "metadata": {
    "dotnet_interactive": {
     "language": "csharp"
    }
   },
   "outputs": [
    {
     "data": {
      "text/plain": "Bill\n"
     },
     "output_type": "unknown"
    }
   ],
   "source": [
    "string aFriend = \"Bill\";\n",
    "Console.WriteLine(aFriend);"
   ]
  },
  {
   "cell_type": "markdown",
   "metadata": {},
   "source": [
    "You can also re-assign different values to a variable, like so:"
   ]
  },
  {
   "cell_type": "code",
   "execution_count": null,
   "metadata": {
    "dotnet_interactive": {
     "language": "csharp"
    }
   },
   "outputs": [
    {
     "data": {
      "text/plain": "Maira\n"
     },
     "output_type": "unknown"
    }
   ],
   "source": [
    "aFriend = \"Maira\";\n",
    "Console.WriteLine(aFriend);"
   ]
  },
  {
   "cell_type": "markdown",
   "metadata": {},
   "source": [
    "## Work with strings\n",
    "\n",
    "The data type used above is called a `string`. It's used for textual data.\n",
    "\n",
    "You can also combine strings. In this case, we'll use `+` to combine two strings:"
   ]
  },
  {
   "cell_type": "code",
   "execution_count": null,
   "metadata": {
    "dotnet_interactive": {
     "language": "csharp"
    }
   },
   "outputs": [
    {
     "data": {
      "text/plain": "Hello Maira\n"
     },
     "output_type": "unknown"
    }
   ],
   "source": [
    "Console.WriteLine(\"Hello \" + aFriend);"
   ]
  },
  {
   "cell_type": "markdown",
   "metadata": {},
   "source": [
    "When working with strings, you can also use [String Interpolation](https://docs.microsoft.com/dotnet/csharp/language-reference/tokens/interpolated) to combine values into a string:"
   ]
  },
  {
   "cell_type": "code",
   "execution_count": null,
   "metadata": {
    "dotnet_interactive": {
     "language": "csharp"
    }
   },
   "outputs": [
    {
     "data": {
      "text/plain": "Hello Maira\n"
     },
     "output_type": "unknown"
    }
   ],
   "source": [
    "Console.WriteLine($\"Hello {aFriend}\");"
   ]
  },
  {
   "cell_type": "markdown",
   "metadata": {},
   "source": [
    "You're not limited to a single variable between the curly braces when using String Interpolation:"
   ]
  },
  {
   "cell_type": "code",
   "execution_count": null,
   "metadata": {
    "dotnet_interactive": {
     "language": "csharp"
    }
   },
   "outputs": [
    {
     "data": {
      "text/plain": "My friends are Maria and Sage\n"
     },
     "output_type": "unknown"
    }
   ],
   "source": [
    "string firstFriend = \"Maria\";\n",
    "string secondFriend = \"Sage\";\n",
    "Console.WriteLine($\"My friends are {firstFriend} and {secondFriend}\");"
   ]
  },
  {
   "cell_type": "markdown",
   "metadata": {},
   "source": [
    "As you explore more with strings, you'll find that strings are more than a collection of letters. You can find the length of a string using `Length`. `Length` is a property of a string and it returns the number of characters in that string:"
   ]
  },
  {
   "cell_type": "code",
   "execution_count": null,
   "metadata": {
    "dotnet_interactive": {
     "language": "csharp"
    }
   },
   "outputs": [
    {
     "data": {
      "text/plain": "The name Maria has 5 letters.\n"
     },
     "output_type": "unknown"
    },
    {
     "data": {
      "text/plain": "The name Sage has 4 letters.\n"
     },
     "output_type": "unknown"
    }
   ],
   "source": [
    "Console.WriteLine($\"The name {firstFriend} has {firstFriend.Length} letters.\");\n",
    "Console.WriteLine($\"The name {secondFriend} has {secondFriend.Length} letters.\");"
   ]
  },
  {
   "cell_type": "markdown",
   "metadata": {},
   "source": [
    "## Do more with strings\n",
    "\n",
    "You've been using a *method*, `Console.WriteLine`, to print messages. A method is a block of code that implements some action. It has a name, so you can access it.\n",
    "\n",
    "Suppose your strings have leading or trailing spaces that you don't want to display. You want to **trim** the spaces from the strings. The `Trim` method and related methods `TrimStart` and `TrimEnd` do that work. You can just use those methods to remove leading and trailing spaces."
   ]
  },
  {
   "cell_type": "code",
   "execution_count": null,
   "metadata": {
    "dotnet_interactive": {
     "language": "csharp"
    }
   },
   "outputs": [
    {
     "data": {
      "text/plain": "[      Hello World!       ]\n"
     },
     "output_type": "unknown"
    },
    {
     "data": {
      "text/plain": "[Hello World!       ]\n"
     },
     "output_type": "unknown"
    },
    {
     "data": {
      "text/plain": "[      Hello World!]\n"
     },
     "output_type": "unknown"
    },
    {
     "data": {
      "text/plain": "[Hello World!]\n"
     },
     "output_type": "unknown"
    }
   ],
   "source": [
    "string greeting = \"      Hello World!       \";\n",
    "Console.WriteLine($\"[{greeting}]\");\n",
    "\n",
    "string trimmedGreeting = greeting.TrimStart();\n",
    "Console.WriteLine($\"[{trimmedGreeting}]\");\n",
    "\n",
    "trimmedGreeting = greeting.TrimEnd();\n",
    "Console.WriteLine($\"[{trimmedGreeting}]\");\n",
    "\n",
    "trimmedGreeting = greeting.Trim();\n",
    "Console.WriteLine($\"[{trimmedGreeting}]\");"
   ]
  },
  {
   "cell_type": "markdown",
   "metadata": {},
   "source": [
    "There are other methods available to work with a string. For example, you've probably used a search and replace command in an editor or word processor before. The `Replace` method does something similar in a string. It searches for a substring and replaces it with different text. The `Replace` method takes two parameters. These are the strings between the parentheses. The first string is the text to search for. The second string is the text to replace it with:"
   ]
  },
  {
   "cell_type": "code",
   "execution_count": null,
   "metadata": {
    "dotnet_interactive": {
     "language": "csharp"
    }
   },
   "outputs": [
    {
     "data": {
      "text/plain": "Hello World!\n"
     },
     "output_type": "unknown"
    },
    {
     "data": {
      "text/plain": "Greetings World!\n"
     },
     "output_type": "unknown"
    }
   ],
   "source": [
    "string sayHello = \"Hello World!\";\n",
    "Console.WriteLine(sayHello);\n",
    "sayHello = sayHello.Replace(\"Hello\", \"Greetings\");\n",
    "Console.WriteLine(sayHello);"
   ]
  },
  {
   "cell_type": "markdown",
   "metadata": {},
   "source": [
    "Two other useful methods make a string ALL CAPS or all lower case:"
   ]
  },
  {
   "cell_type": "code",
   "execution_count": null,
   "metadata": {
    "dotnet_interactive": {
     "language": "csharp"
    }
   },
   "outputs": [
    {
     "data": {
      "text/plain": "GREETINGS WORLD!\n"
     },
     "output_type": "unknown"
    },
    {
     "data": {
      "text/plain": "greetings world!\n"
     },
     "output_type": "unknown"
    }
   ],
   "source": [
    "Console.WriteLine(sayHello.ToUpper());\n",
    "Console.WriteLine(sayHello.ToLower());"
   ]
  },
  {
   "cell_type": "markdown",
   "metadata": {},
   "source": [
    "## Search strings\n",
    "\n",
    "The other part of a search and replace operation is to find text in a string. You can use the `Contains` method for searching. It tells you if a string contains a substring inside it:"
   ]
  },
  {
   "cell_type": "code",
   "execution_count": null,
   "metadata": {
    "dotnet_interactive": {
     "language": "csharp"
    }
   },
   "outputs": [
    {
     "data": {
      "text/plain": "True\n"
     },
     "output_type": "unknown"
    },
    {
     "data": {
      "text/plain": "False\n"
     },
     "output_type": "unknown"
    }
   ],
   "source": [
    "string songLyrics = \"You say goodbye, and I say hello\";\n",
    "Console.WriteLine(songLyrics.Contains(\"goodbye\"));\n",
    "Console.WriteLine(songLyrics.Contains(\"greetings\"));"
   ]
  },
  {
   "cell_type": "markdown",
   "metadata": {
    "dotnet_interactive": {
     "language": "csharp"
    }
   },
   "source": [
    "## Comments\r\n",
    "\r\n",
    "You can write comments by using the two forward-slash characters to indicate everything after them is a comment."
   ]
  },
  {
   "cell_type": "code",
   "execution_count": null,
   "metadata": {
    "dotnet_interactive": {
     "language": "csharp"
    }
   },
   "outputs": [],
   "source": [
    "// This is a comment"
   ]
  },
  {
   "cell_type": "markdown",
   "metadata": {
    "dotnet_interactive": {
     "language": "csharp"
    }
   },
   "source": [
    "The below script needs to be able to find the current output cell; this is an easy method to get it.\r\n",
    "\r\n",
    "You can create comments that span multiple lines by using slash asterisk fencing like the following:"
   ]
  },
  {
   "cell_type": "code",
   "execution_count": null,
   "metadata": {
    "dotnet_interactive": {
     "language": "csharp"
    }
   },
   "outputs": [],
   "source": [
    "/*\r\n",
    "This is a multi-line comment\r\n",
    "\r\n",
    "and this is still commented out\r\n",
    "*/"
   ]
  },
  {
   "cell_type": "markdown",
   "metadata": {
    "dotnet_interactive": {
     "language": "csharp"
    }
   },
   "source": [
    "## Built-In Variable Types\r\n",
    "\r\n",
    "Variables can be declared of various **types** and then interacted with. The simplest types in C# are called [Built-In Types](https://docs.microsoft.com/en-us/dotnet/csharp/language-reference/builtin-types/built-in-types)\r\n",
    "\r\n",
    "We define variables using in-memory storage for a type by preceeding the name of the variable we would like to create with the type of the variable we are creating."
   ]
  },
  {
   "cell_type": "code",
   "execution_count": null,
   "metadata": {
    "dotnet_interactive": {
     "language": "csharp"
    }
   },
   "outputs": [
    {
     "data": {
      "text/html": "<div class=\"dni-plaintext\">C</div>"
     },
     "output_type": "unknown"
    }
   ],
   "source": [
    "int i = 10;\r\n",
    "                        double j = 5.5d;\r\n",
    "      char c = 'C';\r\n",
    "\r\n",
    "c"
   ]
  },
  {
   "cell_type": "markdown",
   "metadata": {
    "dotnet_interactive": {
     "language": "csharp"
    }
   },
   "source": [
    "### The var keyword\r\n",
    "\r\n",
    "Sometimes, its a little cumbersome to declare a variable, assign a value, and have to specify the type before it. C# has built-in type inference and you can use the var keyword to force the compiler to detect the actual type being created and set the variable to the type of the value being assigned."
   ]
  },
  {
   "cell_type": "code",
   "execution_count": null,
   "metadata": {
    "dotnet_interactive": {
     "language": "csharp"
    }
   },
   "outputs": [
    {
     "data": {
      "text/html": "<div class=\"dni-plaintext\">9</div>"
     },
     "output_type": "unknown"
    },
    {
     "data": {
      "text/html": "<div class=\"dni-plaintext\">C</div>"
     },
     "output_type": "unknown"
    }
   ],
   "source": [
    "var i                             = 10;\r\n",
    "var someReallyLongVariableName    = 9;\r\n",
    "var foo                           = \"Something\";\r\n",
    "display(someReallyLongVariableName);\r\n",
    "\r\n",
    "var c = 'C';\r\n",
    "c"
   ]
  },
  {
   "cell_type": "markdown",
   "metadata": {
    "dotnet_interactive": {
     "language": "csharp"
    }
   },
   "source": [
    "You can ONLY use the var keyword when creating and assigning the variable in one statement.\r\n",
    "\r\n",
    "### Real Literals\r\n",
    "\r\n",
    "We can declare double, float, and decimal types with simple numeric notation, but we need to force the literal numbers we assign to be the correct type to match the variable type expected.\r\n",
    "\r\n",
    "To do this, we add a d, f, or m suffix to a number being assigned.  Try changing the suffix on the number in the next block and see what types it assigns."
   ]
  },
  {
   "cell_type": "code",
   "execution_count": null,
   "metadata": {
    "dotnet_interactive": {
     "language": "csharp"
    }
   },
   "outputs": [
    {
     "data": {
      "text/html": "<span><a href=\"https://docs.microsoft.com/dotnet/api/system.single?view=net-5.0\">System.Single</a></span>"
     },
     "output_type": "unknown"
    }
   ],
   "source": [
    "var myNumber = 4f;\r\n",
    "myNumber.GetType()"
   ]
  },
  {
   "cell_type": "markdown",
   "metadata": {
    "dotnet_interactive": {
     "language": "csharp"
    }
   },
   "source": [
    "## Type Casting\r\n",
    "\r\n",
    "We can convert a variable between different types in several ways:\r\n",
    "\r\n",
    "1. Assign to a variable of a different type\r\n",
    "1. Convert between types by placing the destination type in parenthesis"
   ]
  },
  {
   "cell_type": "code",
   "execution_count": null,
   "metadata": {
    "dotnet_interactive": {
     "language": "csharp"
    }
   },
   "outputs": [
    {
     "data": {
      "text/html": "<div class=\"dni-plaintext\">10</div>"
     },
     "output_type": "unknown"
    },
    {
     "data": {
      "text/html": "<div class=\"dni-plaintext\">10</div>"
     },
     "output_type": "unknown"
    }
   ],
   "source": [
    "int valueA = 10;\r\n",
    "decimal valueB = valueA; // Implicit conversion\r\n",
    "\r\n",
    "display(valueB);\r\n",
    "\r\n",
    "decimal valueC = 10;\r\n",
    "//int valueD = valueC;      // This errors out because int cannot be implicitly converted to by a decimal\r\n",
    "int valueD = (int)valueC;   // Explicitly convert valueC to int with the (int) modifier\r\n",
    "\r\n",
    "display(valueD);"
   ]
  },
  {
   "cell_type": "markdown",
   "metadata": {
    "dotnet_interactive": {
     "language": "csharp"
    }
   },
   "source": [
    "## Operators\r\n",
    "\r\n",
    "Now that we have some basic types and can create variables, it would sure be nice to have them interact with each other. [Operators](https://docs.microsoft.com/en-us/dotnet/csharp/language-reference/operators/) can be used to interact with our variables.\r\n",
    "\r\n",
    "Let's start by declaring two variables, apples and oranges and interact with them using different operators. Try changing some of the values and tinkering with the operators in the following code snippets.\r\n"
   ]
  },
  {
   "cell_type": "code",
   "execution_count": null,
   "metadata": {
    "dotnet_interactive": {
     "language": "csharp"
    }
   },
   "outputs": [],
   "source": [
    "var apples = 100m;   // Decimal value\r\n",
    "var oranges = 30m;   // Decimal value"
   ]
  },
  {
   "cell_type": "markdown",
   "metadata": {
    "dotnet_interactive": {
     "language": "csharp"
    }
   },
   "source": [
    "Basic arithmetic operators and assignment are available:"
   ]
  },
  {
   "cell_type": "code",
   "execution_count": null,
   "metadata": {
    "dotnet_interactive": {
     "language": "csharp"
    }
   },
   "outputs": [
    {
     "data": {
      "text/html": "<div class=\"dni-plaintext\">130</div>"
     },
     "output_type": "unknown"
    }
   ],
   "source": [
    "display(apples + oranges);"
   ]
  },
  {
   "cell_type": "code",
   "execution_count": null,
   "metadata": {
    "dotnet_interactive": {
     "language": "csharp"
    }
   },
   "outputs": [
    {
     "data": {
      "text/html": "<div class=\"dni-plaintext\">70</div>"
     },
     "output_type": "unknown"
    }
   ],
   "source": [
    "display(apples - oranges);"
   ]
  },
  {
   "cell_type": "code",
   "execution_count": null,
   "metadata": {
    "dotnet_interactive": {
     "language": "csharp"
    }
   },
   "outputs": [
    {
     "data": {
      "text/html": "<div class=\"dni-plaintext\">3000</div>"
     },
     "output_type": "unknown"
    }
   ],
   "source": [
    "display(apples * oranges);"
   ]
  },
  {
   "cell_type": "code",
   "execution_count": null,
   "metadata": {
    "dotnet_interactive": {
     "language": "csharp"
    }
   },
   "outputs": [
    {
     "data": {
      "text/html": "<div class=\"dni-plaintext\">343.33333333333333333333333333</div>"
     },
     "output_type": "unknown"
    },
    {
     "data": {
      "text/html": "<div class=\"dni-plaintext\">333.33333333333333333333333333</div>"
     },
     "output_type": "unknown"
    },
    {
     "data": {
      "text/html": "<div class=\"dni-plaintext\">3333.3333333333333333333333333</div>"
     },
     "output_type": "unknown"
    },
    {
     "data": {
      "text/html": "<div class=\"dni-plaintext\">1111.1111111111111111111111111</div>"
     },
     "output_type": "unknown"
    }
   ],
   "source": [
    "display(apples += 10);\r\n",
    "\r\n",
    "display(apples -= 10);\r\n",
    "\r\n",
    "display(apples *= 10);\r\n",
    "\r\n",
    "display(apples /= 3m);\r\n"
   ]
  },
  {
   "cell_type": "markdown",
   "metadata": {
    "dotnet_interactive": {
     "language": "csharp"
    }
   },
   "source": [
    "C# makes the inequality operators available as well, and a test for equality using =="
   ]
  },
  {
   "cell_type": "code",
   "execution_count": null,
   "metadata": {
    "dotnet_interactive": {
     "language": "csharp"
    }
   },
   "outputs": [
    {
     "data": {
      "text/html": "<div class=\"dni-plaintext\">True</div>"
     },
     "output_type": "unknown"
    }
   ],
   "source": [
    "display(apples > oranges)"
   ]
  },
  {
   "cell_type": "code",
   "execution_count": null,
   "metadata": {
    "dotnet_interactive": {
     "language": "csharp"
    }
   },
   "outputs": [
    {
     "data": {
      "text/html": "<div class=\"dni-plaintext\">True</div>"
     },
     "output_type": "unknown"
    }
   ],
   "source": [
    "display(apples >= oranges)"
   ]
  },
  {
   "cell_type": "code",
   "execution_count": null,
   "metadata": {
    "dotnet_interactive": {
     "language": "csharp"
    }
   },
   "outputs": [
    {
     "data": {
      "text/html": "<div class=\"dni-plaintext\">False</div>"
     },
     "output_type": "unknown"
    }
   ],
   "source": [
    "display(apples < oranges)"
   ]
  },
  {
   "cell_type": "code",
   "execution_count": null,
   "metadata": {
    "dotnet_interactive": {
     "language": "csharp"
    }
   },
   "outputs": [
    {
     "data": {
      "text/html": "<div class=\"dni-plaintext\">False</div>"
     },
     "output_type": "unknown"
    }
   ],
   "source": [
    "display(apples <= oranges)"
   ]
  },
  {
   "cell_type": "code",
   "execution_count": null,
   "metadata": {
    "dotnet_interactive": {
     "language": "csharp"
    }
   },
   "outputs": [
    {
     "data": {
      "text/html": "<div class=\"dni-plaintext\">False</div>"
     },
     "output_type": "unknown"
    }
   ],
   "source": [
    "display(apples == oranges)"
   ]
  },
  {
   "cell_type": "code",
   "execution_count": null,
   "metadata": {
    "dotnet_interactive": {
     "language": "csharp"
    }
   },
   "outputs": [
    {
     "data": {
      "text/html": "<div class=\"dni-plaintext\">True</div>"
     },
     "output_type": "unknown"
    }
   ],
   "source": [
    "display(apples != oranges)"
   ]
  },
  {
   "cell_type": "markdown",
   "metadata": {
    "dotnet_interactive": {
     "language": "csharp"
    }
   },
   "source": [
    "## Loops and Conditionals\r\n",
    "\r\n",
    "Common to every programming language are the concepts of loops or repeated execution of the same block of code and conditional execution of code. These features are typically manifest as the following statements:\r\n",
    "\r\n",
    "- for\r\n",
    "- while\r\n",
    "- do\r\n",
    "- if\r\n",
    "- switch or case\r\n",
    "\r\n",
    "### Conditionals\r\n",
    "\r\n",
    "There are two statement-level conditional interactions in C#: if and switch...case statements. If statements can be combined with any number of else if statements and a single else statement to route code flow and interactions across branches of code. [(Link to official docs)](https://docs.microsoft.com/en-us/dotnet/csharp/language-reference/keywords/if-else)\r\n",
    "\r\n",
    "Let's take a look at a simple if statement."
   ]
  },
  {
   "cell_type": "code",
   "execution_count": null,
   "metadata": {
    "dotnet_interactive": {
     "language": "csharp"
    }
   },
   "outputs": [
    {
     "data": {
      "text/plain": "Current seconds: 53"
     },
     "output_type": "unknown"
    }
   ],
   "source": [
    "var seconds = DateTime.Now.Second;\r\n",
    "display(\"Current seconds: \" + seconds);\r\n",
    "\r\n",
    "// A simple test, are the number of seconds a multiple of 2?\r\n",
    "if (    seconds % 2 == 0     ) {\r\n",
    "    \r\n",
    "    // Do this thing when seconds are even\r\n",
    "    display(\"seconds are even\");\r\n",
    "    \r\n",
    "}"
   ]
  },
  {
   "cell_type": "markdown",
   "metadata": {
    "dotnet_interactive": {
     "language": "csharp"
    }
   },
   "source": [
    "The if statement starts with the if keyword and continues with a test in parenthesis. Next, the code to be executed if the test evaluates to true is contained within curly braces { }. The use of braces is optional, as long as the code to be executed is a single line."
   ]
  },
  {
   "cell_type": "code",
   "execution_count": null,
   "metadata": {
    "dotnet_interactive": {
     "language": "csharp"
    }
   },
   "outputs": [
    {
     "data": {
      "text/plain": "Current seconds: 43"
     },
     "output_type": "unknown"
    },
    {
     "data": {
      "text/plain": "Seconds are odd"
     },
     "output_type": "unknown"
    },
    {
     "data": {
      "text/plain": "This will always execute, even though it LOOKS LIKE its in the if statement"
     },
     "output_type": "unknown"
    }
   ],
   "source": [
    "var seconds = DateTime.Now.Second;\r\n",
    "display(\"Current seconds: \" + seconds);\r\n",
    "\r\n",
    "// One line if statement\r\n",
    "if (seconds % 2 == 0) display(\"Seconds are even\");\r\n",
    "\r\n",
    "if (seconds % 2 == 1)\r\n",
    "    display(\"Seconds are odd\");\r\n",
    "\r\n",
    "\r\n",
    "    display(\"This will always execute, even though it LOOKS LIKE its in the if statement\");"
   ]
  },
  {
   "cell_type": "markdown",
   "metadata": {
    "dotnet_interactive": {
     "language": "csharp"
    }
   },
   "source": [
    "Great, if the condition is met we can execute some code. What if we need some more complex branching and potentially apply secondary tests and code if those tests return false? We can start using the else and else if syntax to add these additional branches of code to be executed.\r\n",
    "\r\n",
    "Let's look a more complex branching scenario:"
   ]
  },
  {
   "cell_type": "code",
   "execution_count": null,
   "metadata": {
    "dotnet_interactive": {
     "language": "csharp"
    }
   },
   "outputs": [
    {
     "data": {
      "text/plain": "Current seconds: 49"
     },
     "output_type": "unknown"
    },
    {
     "data": {
      "text/plain": "Seconds are neither even nor a multiple of 3"
     },
     "output_type": "unknown"
    },
    {
     "data": {
      "text/plain": "Seconds are neither even nor a multiple of 3"
     },
     "output_type": "unknown"
    }
   ],
   "source": [
    "var seconds = DateTime.Now.Second;\r\n",
    "display(\"Current seconds: \" + seconds);\r\n",
    "\r\n",
    "if (seconds % 2 == 0) {\r\n",
    "    display(\"Seconds are even\");\r\n",
    "} else if (seconds % 3 == 0) {\r\n",
    "    display(\"Seconds are a multiple of 3\");\r\n",
    "} else if (seconds % 5 == 0) {\r\n",
    "    display(\"Seconds are a multiple of 5\");\r\n",
    "} else {\r\n",
    "    display(\"Seconds are neither even nor a multiple of 3\");\r\n",
    "}\r\n",
    "\r\n",
    "if (seconds % 2 == 0)          display(\"Seconds are even\");\r\n",
    "else if (seconds % 3 == 0)     display(\"Seconds are a multiple of 3\");\r\n",
    "else if (seconds % 5 == 0)     display(\"Seconds are a multiple of 5\");\r\n",
    "else                           display(\"Seconds are neither even nor a multiple of 3\");"
   ]
  },
  {
   "cell_type": "markdown",
   "metadata": {
    "dotnet_interactive": {
     "language": "csharp"
    }
   },
   "source": [
    "Testing for one condition is fine... but what if we have a compound scenario where we need to test for multiple factors before we determine which branch to take?\r\n",
    "\r\n",
    "You can chain together conditional tests using the logical OR | and the logical AND & operators."
   ]
  },
  {
   "cell_type": "code",
   "execution_count": null,
   "metadata": {
    "dotnet_interactive": {
     "language": "csharp"
    }
   },
   "outputs": [
    {
     "data": {
      "text/plain": "Current seconds: 59"
     },
     "output_type": "unknown"
    },
    {
     "data": {
      "text/plain": "Seconds are neither even nor a multiple of 3"
     },
     "output_type": "unknown"
    }
   ],
   "source": [
    "var seconds = DateTime.Now.Second;\r\n",
    "// seconds = 7;\r\n",
    "display(\"Current seconds: \" + seconds);\r\n",
    "\r\n",
    "// Test for BOTH multiple of 2 AND a multiple of 3\r\n",
    "if (seconds % 2 == 0 & seconds % 3 == 0) {\r\n",
    "    display(\"Seconds are even AND a multiple of 3\");\r\n",
    "} else if (seconds % 2 == 0) {\r\n",
    "    display(\"Seconds are even\");\r\n",
    "} else if (seconds % 3 == 0) {\r\n",
    "    display(\"Seconds are a multiple of 3\");\r\n",
    "\r\n",
    "// Test for seconds to be a multiple of 5 OR a multiple of 7\r\n",
    "} else if (seconds % 5 == 0 | seconds % 7 == 0) {\r\n",
    "    display(\"Seconds are a multiple of 5 OR 7\");\r\n",
    "} else {\r\n",
    "    display(\"Seconds are neither even nor a multiple of 3\");\r\n",
    "}"
   ]
  },
  {
   "cell_type": "markdown",
   "metadata": {
    "dotnet_interactive": {
     "language": "csharp"
    }
   },
   "source": [
    "There is another scenario that you will see many developers use to prioritize the compound boolean test inside an if statement, and that is using the 'short circuit' operators && and ||. They're referred to as a 'short circuit' operators because they evaluate the first condition on the left and if necessary evaluate the condition on the right side of the operator.\r\n",
    "\r\n",
    "The && operator is called the **Conditional Logical AND** operator or referred to as **AndAlso** in Visual Basic. This operator behaves as follows:\r\n",
    "\r\n",
    "1. Evaluate the left-side of the operator\r\n",
    "1. IF the left-side evaluates to false, return false and stop processing\r\n",
    "1. ELSE return the result of evaluating the right-side of the operator\r\n",
    "\r\n",
    "Here's an example:\r\n"
   ]
  },
  {
   "cell_type": "code",
   "execution_count": null,
   "metadata": {
    "dotnet_interactive": {
     "language": "csharp"
    }
   },
   "outputs": [
    {
     "data": {
      "text/plain": "Current seconds: 27"
     },
     "output_type": "unknown"
    },
    {
     "data": {
      "text/plain": "Seconds are odd"
     },
     "output_type": "unknown"
    }
   ],
   "source": [
    "var seconds = DateTime.Now.Second;\r\n",
    "display(\"Current seconds: \" + seconds);\r\n",
    "\r\n",
    "bool MultipleOfThree() {\r\n",
    "    display(\"MultipleOfThree was called\");\r\n",
    "    return seconds % 3 == 0;\r\n",
    "}\r\n",
    "\r\n",
    "if (seconds % 2 == 0 && MultipleOfThree()) {\r\n",
    "    display(\"Seconds are even and a multiple of three\");\r\n",
    "}\r\n",
    "\r\n",
    "if (seconds != null && seconds % 2 == 1) {\r\n",
    "    display(\"Seconds are odd\");\r\n",
    "}"
   ]
  },
  {
   "cell_type": "markdown",
   "metadata": {
    "dotnet_interactive": {
     "language": "csharp"
    }
   },
   "source": [
    "In this scenario, if the number of seconds are even then the MultipleOfThree method is executed. If the number of seconds is even and a multiple of three, then it is reported as such. We can also observe that when the number of seconds is even, the MultipleOfThree method is executed because it is reported in the output.\r\n",
    "\r\n",
    "The || operator is called the **Conditional Logical OR operator** or referred to as the **OrElse** operator by the Visual Basic language. This operator behaves like the following:\r\n",
    "\r\n",
    "1. Evaluate the left-side of the operator\r\n",
    "1. IF the left-side evaluates to true, return true and stop processing\r\n",
    "1. ELSE return the result of evaluating the right-side of the operator\r\n",
    "\r\n",
    "Here's an example:"
   ]
  },
  {
   "cell_type": "code",
   "execution_count": null,
   "metadata": {
    "dotnet_interactive": {
     "language": "csharp"
    }
   },
   "outputs": [
    {
     "data": {
      "text/plain": "Current seconds: 43"
     },
     "output_type": "unknown"
    },
    {
     "data": {
      "text/plain": "MultipleOfThree was called"
     },
     "output_type": "unknown"
    }
   ],
   "source": [
    "var seconds = DateTime.Now.Second;\r\n",
    "// seconds = 6;\r\n",
    "display(\"Current seconds: \" + seconds);\r\n",
    "\r\n",
    "bool MultipleOfThree() {\r\n",
    "    display(\"MultipleOfThree was called\");\r\n",
    "    return seconds % 3 == 0;\r\n",
    "}\r\n",
    "\r\n",
    "if (seconds % 2 == 0 || MultipleOfThree()) {\r\n",
    "    display(\"Seconds are even or a multiple of three\");\r\n",
    "}"
   ]
  },
  {
   "cell_type": "markdown",
   "metadata": {
    "dotnet_interactive": {
     "language": "csharp"
    }
   },
   "source": [
    "### Switch Statements\r\n",
    "\r\n",
    "Sometimes we have a LOT of conditions and branches that we want to evaluate and potentially traverse in our code. The [switch statement](https://docs.microsoft.com/dotnet/csharp/language-reference/keywords/switch) allows you to configure using the switch, case, break, and default statements the various branches you could potentially step down.\r\n",
    "\r\n",
    "Use switch (test expression) to perform your test. Then use a series of case (result): statements to provide the various branching code paths to potentially execute. You can allow processing to 'fall out' of one statement into the next, and even provide a default branch at the end to ensure a branch is executed if none of the cases are matched.\r\n",
    "\r\n",
    "Let's look at a real example:\r\n"
   ]
  },
  {
   "cell_type": "code",
   "execution_count": null,
   "metadata": {
    "dotnet_interactive": {
     "language": "csharp"
    }
   },
   "outputs": [
    {
     "data": {
      "text/plain": "Friday is ALMOST HERE!!"
     },
     "output_type": "unknown"
    }
   ],
   "source": [
    "var dayOfTheWeek = DateTime.Now.DayOfWeek;\r\n",
    "// dayOfTheWeek = DayOfWeek.Friday;\r\n",
    "\r\n",
    "switch (dayOfTheWeek) {\r\n",
    "    case DayOfWeek.Monday:\r\n",
    "        display(\"Does somebody have a case of the Mondays?\");\r\n",
    "        break;\r\n",
    "    case DayOfWeek.Tuesday:\r\n",
    "        display(\"It's TACO TUESDAY at the cafe!\");\r\n",
    "        break;\r\n",
    "    case DayOfWeek.Wednesday:\r\n",
    "        display(\"Middle of the work-week... almost done!\");\r\n",
    "        break;\r\n",
    "    case DayOfWeek.Thursday:\r\n",
    "        display(\"Friday is ALMOST HERE!!\");\r\n",
    "        break;\r\n",
    "    case DayOfWeek.Friday:\r\n",
    "        display(\"The weekend starts.... NOW!\");\r\n",
    "        break;\r\n",
    "    case DayOfWeek.Saturday:\r\n",
    "        display(\"Relaxing... no school, no work...\");\r\n",
    "        break;\r\n",
    "    case DayOfWeek.Sunday:\r\n",
    "        display(\"School and work tomorrow?  Better have some fun NOW!\");\r\n",
    "        break;\r\n",
    "    default:\r\n",
    "        display(\"I don't care what day of the week it is... we're on HOLIDAY!\");\r\n",
    "        break;\r\n",
    "}"
   ]
  },
  {
   "cell_type": "markdown",
   "metadata": {
    "dotnet_interactive": {
     "language": "csharp"
    }
   },
   "source": [
    "We can add additional tests for case statements using a when clause as well:"
   ]
  },
  {
   "cell_type": "code",
   "execution_count": null,
   "metadata": {
    "dotnet_interactive": {
     "language": "csharp"
    }
   },
   "outputs": [
    {
     "data": {
      "text/plain": "Work work work..."
     },
     "output_type": "unknown"
    }
   ],
   "source": [
    "var dayOfTheWeek = DateTime.Now.DayOfWeek;\r\n",
    "var hourOfDay = DateTime.Now.Hour;\r\n",
    "    \r\n",
    "/*  Extra conditions to test with */\r\n",
    "dayOfTheWeek = DayOfWeek.Monday;\r\n",
    "hourOfDay = 17;\r\n",
    "/* */\r\n",
    "\r\n",
    "switch (dayOfTheWeek) {\r\n",
    "    case DayOfWeek.Monday:\r\n",
    "    case DayOfWeek.Tuesday:\r\n",
    "    case DayOfWeek.Wednesday:\r\n",
    "    case DayOfWeek.Thursday:\r\n",
    "    case DayOfWeek.Friday when hourOfDay < 16:\r\n",
    "        display(\"Work work work...\");\r\n",
    "        break;\r\n",
    "    case DayOfWeek.Friday when hourOfDay >= 16:\r\n",
    "        display(\"The weekend starts.... NOW!\");\r\n",
    "        break;\r\n",
    "    case DayOfWeek.Saturday:\r\n",
    "    case DayOfWeek.Sunday:\r\n",
    "        display(\"Relaxing... no school, no work...\");\r\n",
    "        break;\r\n",
    "}"
   ]
  },
  {
   "cell_type": "markdown",
   "metadata": {
    "dotnet_interactive": {
     "language": "csharp"
    }
   },
   "source": [
    "### For Loops\r\n",
    "\r\n",
    "[For loops](https://docs.microsoft.com/dotnet/csharp/language-reference/keywords/for) are a looping statement that allow you to repeat a block of code depending on a counter expression. The for statement takes the general form:\r\n",
    "\r\n",
    "`for (Initializer; Condition; Iterator) { CODE TO EXECUTE }`\r\n",
    "\r\n",
    "The Initializer typically initializes a counter variable to be worked with.\r\n",
    "\r\n",
    "The Condition is a test to be executed at the beginning of each attempt to execute the code block. If the Condition evaluates to true then the code block will be executed.\r\n",
    "\r\n",
    "The optional Iterator code executes after each loop and typically increments the initialized variable , stepping towards the end value.\r\n",
    "\r\n",
    "Typical use for the for statement looks similar to the following, where 5 is an arbitrary number to stop counting at.\r\n",
    "\r\n",
    "```\r\n",
    "for (var i=0; i<5; i++) {\r\n",
    "\r\n",
    "}\r\n",
    "```\r\n",
    "\r\n",
    "In practice it works like this:\r\n"
   ]
  },
  {
   "cell_type": "code",
   "execution_count": null,
   "metadata": {
    "dotnet_interactive": {
     "language": "csharp"
    }
   },
   "outputs": [
    {
     "data": {
      "text/plain": "Counting 0"
     },
     "output_type": "unknown"
    },
    {
     "data": {
      "text/plain": "Counting 1"
     },
     "output_type": "unknown"
    },
    {
     "data": {
      "text/plain": "Counting 2"
     },
     "output_type": "unknown"
    },
    {
     "data": {
      "text/plain": "Counting 3"
     },
     "output_type": "unknown"
    },
    {
     "data": {
      "text/plain": "Counting 4"
     },
     "output_type": "unknown"
    }
   ],
   "source": [
    "for (var counter=0; counter<5; counter++) {\r\n",
    "  display(\"Counting \" + counter);\r\n",
    "}"
   ]
  },
  {
   "cell_type": "markdown",
   "metadata": {
    "dotnet_interactive": {
     "language": "csharp"
    }
   },
   "source": [
    "Loops can even count backwards! This is because the iterator expression at the end of the for statement can execute any code. Let's try it with the -= operator:"
   ]
  },
  {
   "cell_type": "code",
   "execution_count": null,
   "metadata": {
    "dotnet_interactive": {
     "language": "csharp"
    }
   },
   "outputs": [
    {
     "data": {
      "text/plain": "Counting 5"
     },
     "output_type": "unknown"
    },
    {
     "data": {
      "text/plain": "Counting 2"
     },
     "output_type": "unknown"
    }
   ],
   "source": [
    "for (var counter=5; counter>0; counter-= 3) {\r\n",
    "  display(\"Counting \" + counter);\r\n",
    "}"
   ]
  },
  {
   "cell_type": "markdown",
   "metadata": {
    "dotnet_interactive": {
     "language": "csharp"
    }
   },
   "source": [
    "### Break Statement in For loops\r\n",
    "\r\n",
    "If you need to exit a loop and continue processing, you can execute the break statement.\r\n",
    "\r\n",
    "In the following loop, it is configured to run forever with the counter value starting at 1 and continuing as long as the counter > 0. The break statement will be triggered once the counter crosses 10.\r\n"
   ]
  },
  {
   "cell_type": "code",
   "execution_count": null,
   "metadata": {
    "dotnet_interactive": {
     "language": "csharp"
    }
   },
   "outputs": [
    {
     "data": {
      "text/plain": "Counting 1"
     },
     "output_type": "unknown"
    },
    {
     "data": {
      "text/plain": "Counting 2"
     },
     "output_type": "unknown"
    },
    {
     "data": {
      "text/plain": "Counting 3"
     },
     "output_type": "unknown"
    },
    {
     "data": {
      "text/plain": "Counting 4"
     },
     "output_type": "unknown"
    },
    {
     "data": {
      "text/plain": "Counting 5"
     },
     "output_type": "unknown"
    },
    {
     "data": {
      "text/plain": "Counting 6"
     },
     "output_type": "unknown"
    },
    {
     "data": {
      "text/plain": "Counting 7"
     },
     "output_type": "unknown"
    },
    {
     "data": {
      "text/plain": "Counting 8"
     },
     "output_type": "unknown"
    },
    {
     "data": {
      "text/plain": "Counting 9"
     },
     "output_type": "unknown"
    },
    {
     "data": {
      "text/plain": "Counting 10"
     },
     "output_type": "unknown"
    },
    {
     "data": {
      "text/plain": "Counting 11"
     },
     "output_type": "unknown"
    }
   ],
   "source": [
    "for (var counter=1; counter>0; counter++) {\r\n",
    "  display(\"Counting \" + counter);\r\n",
    "  \r\n",
    "  if (counter > 10) break;\r\n",
    "  \r\n",
    "}"
   ]
  },
  {
   "cell_type": "markdown",
   "metadata": {
    "dotnet_interactive": {
     "language": "csharp"
    }
   },
   "source": [
    "### For-Each Loops\r\n",
    "\r\n",
    "We haven't covered collections yet, but you can run a for loop across all of the items in the collection (like an array) and interact with each of those items directly. The [foreach statement](https://docs.microsoft.com/dotnet/csharp/language-reference/keywords/foreach-in) will run the contents of the loop and pass into your varaible each element in the collection, one at a time.\r\n",
    "\r\n",
    "Let's look at an example:\r\n"
   ]
  },
  {
   "cell_type": "code",
   "execution_count": null,
   "metadata": {
    "dotnet_interactive": {
     "language": "csharp"
    }
   },
   "outputs": [
    {
     "data": {
      "text/plain": "Fritz"
     },
     "output_type": "unknown"
    },
    {
     "data": {
      "text/plain": "Scott"
     },
     "output_type": "unknown"
    },
    {
     "data": {
      "text/plain": "Maria"
     },
     "output_type": "unknown"
    },
    {
     "data": {
      "text/plain": "Jayme"
     },
     "output_type": "unknown"
    },
    {
     "data": {
      "text/plain": "Maira"
     },
     "output_type": "unknown"
    },
    {
     "data": {
      "text/plain": "James"
     },
     "output_type": "unknown"
    }
   ],
   "source": [
    "var arrNames = new string[] { \"Fritz\", \"Scott\", \"Maria\", \"Jayme\", \"Maira\", \"James\"};\r\n",
    "\r\n",
    "foreach (var name in arrNames) {\r\n",
    "    display(name);\r\n",
    "}"
   ]
  },
  {
   "cell_type": "markdown",
   "metadata": {
    "dotnet_interactive": {
     "language": "csharp"
    }
   },
   "source": [
    "The `foreach` statement is functionally the same as the following for loop with an iterator:"
   ]
  },
  {
   "cell_type": "code",
   "execution_count": null,
   "metadata": {
    "dotnet_interactive": {
     "language": "csharp"
    }
   },
   "outputs": [
    {
     "data": {
      "text/plain": "Fritz"
     },
     "output_type": "unknown"
    },
    {
     "data": {
      "text/plain": "Scott"
     },
     "output_type": "unknown"
    },
    {
     "data": {
      "text/plain": "Maria"
     },
     "output_type": "unknown"
    },
    {
     "data": {
      "text/plain": "Jayme"
     },
     "output_type": "unknown"
    },
    {
     "data": {
      "text/plain": "Maira"
     },
     "output_type": "unknown"
    },
    {
     "data": {
      "text/plain": "James"
     },
     "output_type": "unknown"
    }
   ],
   "source": [
    "for (var nameCounter = 0; nameCounter < arrNames.Length; nameCounter++) {\r\n",
    "  display(arrNames[nameCounter]);\r\n",
    "}"
   ]
  },
  {
   "cell_type": "markdown",
   "metadata": {
    "dotnet_interactive": {
     "language": "csharp"
    }
   },
   "source": [
    "### While and Do Loops\r\n",
    "\r\n",
    "`while` and `do` loops have almost identical structure and perform the same task. You provide a test condition over which the contents of the loop should continue to be executed. The [while loop](https://docs.microsoft.com/en-us/dotnet/csharp/language-reference/keywords/while) executes the test FIRST before the loop statements, and the [do loop](https://docs.microsoft.com/en-us/dotnet/csharp/language-reference/keywords/do) executes the test AFTER the statements.\r\n",
    "\r\n",
    "Consider the examples of each statement below. The each start with a counter value of 6. Only the do loop executes and the while loop does not execute as the test fails immediately.\r\n"
   ]
  },
  {
   "cell_type": "code",
   "execution_count": null,
   "metadata": {
    "dotnet_interactive": {
     "language": "csharp"
    }
   },
   "outputs": [],
   "source": [
    "var counter = 6;\r\n",
    "\r\n",
    "while (counter < 5) {\r\n",
    "    counter++;\r\n",
    "    display(counter);\r\n",
    "}"
   ]
  },
  {
   "cell_type": "code",
   "execution_count": null,
   "metadata": {
    "dotnet_interactive": {
     "language": "csharp"
    }
   },
   "outputs": [
    {
     "data": {
      "text/html": "<div class=\"dni-plaintext\">7</div>"
     },
     "output_type": "unknown"
    }
   ],
   "source": [
    "var counter = 6;\r\n",
    "\r\n",
    "do {\r\n",
    "    counter++;\r\n",
    "    display(counter);\r\n",
    "} while (counter < 5);"
   ]
  },
  {
   "cell_type": "markdown",
   "metadata": {},
   "source": [
    "## Summary\r\n",
    "\r\n",
    "There is so much more to cover about C# and interacting with the .NET frameworks.  You can learn more through our [Get Started with .NET series](https://dotnet.microsoft.com/learn)"
   ]
  }
 ],
 "metadata": {
  "kernelspec": {
   "display_name": ".NET (C#)",
   "language": "C#",
   "name": ".net-csharp"
  },
  "language_info": {
   "file_extension": ".cs",
   "mimetype": "text/x-csharp",
   "name": "C#",
   "pygments_lexer": "csharp",
   "version": "9.0"
  }
 },
 "nbformat": 4,
 "nbformat_minor": 4
}