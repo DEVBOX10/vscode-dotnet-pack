{
  "cells": [
    {
      "cell_type": "markdown",
      "metadata": {},
      "source": [
        "# Get Started with C# for Beginners\n",
        "\n",
        "Welcome to .NET Interactive and your first C# notebook. C# is an programming language that you can use to make many different types of programs including websites, games, and mobile applications. Let's explore some of the basics of using C# in this notebook and write your first .NET code!\n",
        "\n",
        "Just click the run icon in a code cell to execute it, or hit the key command."
      ]
    },
    {
      "cell_type": "markdown",
      "metadata": {},
      "source": [
        "## C# Syntax Basics\n",
        "\n",
        "C# allows you to insert as much space as you would like between commands that you write.  You can use tabs or spaces to format your C# code to make it easier for us humans to read.  Complete lines of code, or **statements**, need to end with a semicolon so that the C# **compiler** knows that we have completed giving it an instruction.\n",
        "\n",
        "A **compiler** turns our C# statements into a file that a computer can execute.\n",
        "\n",
        "Let's write our first line of C# code, a simple \"hello world\" statement in C#:"
      ]
    },
    {
      "cell_type": "code",
      "execution_count": 1,
      "metadata": {
        "dotnet_interactive": {
          "language": "csharp"
        }
      },
      "outputs": [
        {
          "data": {
            "text/html": "\r\n<div>\r\n    <div id='dotnet-interactive-this-cell-8120.eaf8d8ead30445e79390c4466a16e291' style='display: none'>\r\n        The below script needs to be able to find the current output cell; this is an easy method to get it.\r\n    </div>\r\n    <script type='text/javascript'>\r\n// ensure `require` is available globally\r\nif (typeof require !== typeof Function || typeof require.config !== typeof Function) {\r\n    let require_script = document.createElement('script');\r\n    require_script.setAttribute('src', 'https://cdnjs.cloudflare.com/ajax/libs/require.js/2.3.6/require.min.js');\r\n    require_script.setAttribute('type', 'text/javascript');\r\n    require_script.onload = function () {\r\n        loadDotnetInteractiveApi();\r\n    };\r\n\r\n    document.getElementsByTagName('head')[0].appendChild(require_script);\r\n}\r\nelse {\r\n    loadDotnetInteractiveApi();\r\n}\r\n\r\nasync function probeAddresses(probingAddresses) {\r\n    function timeout(ms, promise) {\r\n        return new Promise(function (resolve, reject) {\r\n            setTimeout(function () {\r\n                reject(new Error('timeout'))\r\n            }, ms)\r\n            promise.then(resolve, reject)\r\n        })\r\n    }\r\n\r\n    if (Array.isArray(probingAddresses)) {\r\n        for (let i = 0; i < probingAddresses.length; i++) {\r\n\r\n            let rootUrl = probingAddresses[i];\r\n\r\n            if (!rootUrl.endsWith('/')) {\r\n                rootUrl = `${rootUrl}/`;\r\n            }\r\n\r\n            try {\r\n                let response = await timeout(1000, fetch(`${rootUrl}discovery`, {\r\n                    method: 'POST',\r\n                    cache: 'no-cache',\r\n                    mode: 'cors',\r\n                    timeout: 1000,\r\n                    headers: {\r\n                        'Content-Type': 'text/plain'\r\n                    },\r\n                    body: probingAddresses[i]\r\n                }));\r\n\r\n                if (response.status == 200) {\r\n                    return rootUrl;\r\n                }\r\n            }\r\n            catch (e) { }\r\n        }\r\n    }\r\n}\r\n\r\nfunction loadDotnetInteractiveApi() {\r\n    probeAddresses([\"http://172.21.80.1:1000/\", \"http://172.23.192.1:1000/\", \"http://192.168.1.71:1000/\", \"http://127.0.0.1:1000/\"])\r\n        .then((root) => {\r\n            // use probing to find host url and api resources\r\n            // load interactive helpers and language services\r\n            let dotnetInteractiveRequire = require.config({\r\n                context: '8120.eaf8d8ead30445e79390c4466a16e291',\r\n                paths: {\r\n                    'dotnet-interactive': `${root}resources`\r\n                }\r\n            }) || require;\r\n\r\n            let dotnetInteractiveExtensionsRequire = require.config({\r\n                context: '8120.eaf8d8ead30445e79390c4466a16e291',\r\n                paths: {\r\n                    'dotnet-interactive-extensions': `${root}extensions`\r\n                }\r\n            }) || require;\r\n\r\n            if (!window.dotnetInteractiveRequire) {\r\n                window.dotnetInteractiveRequire = dotnetInteractiveRequire;\r\n            }\r\n\r\n            if (!window.dotnetInteractiveExtensionsRequire) {\r\n                window.dotnetInteractiveExtensionsRequire = dotnetInteractiveExtensionsRequire;\r\n            }\r\n\r\n            window.getExtensionRequire = function(extensionName, extensionCacheBuster) {\r\n                let paths = {};\r\n                paths[extensionName] = `${root}extensions/${extensionName}/resources/`;\r\n                \r\n                let internalRequire = require.config({\r\n                    context: extensionCacheBuster,\r\n                    paths: paths,\r\n                    urlArgs: `cacheBuster=${extensionCacheBuster}`\r\n                    }) || require;\r\n\r\n                return internalRequire\r\n            };\r\n        \r\n            dotnetInteractiveRequire([\r\n                    'dotnet-interactive/dotnet-interactive'\r\n                ],\r\n                function (dotnet) {\r\n                    dotnet.init(window);\r\n                },\r\n                function (error) {\r\n                    console.log(error);\r\n                }\r\n            );\r\n        })\r\n        .catch(error => {console.log(error);});\r\n    }\r\n    </script>\r\n</div>"
          },
          "metadata": {},
          "output_type": "display_data"
        },
        {
          "name": "stdout",
          "output_type": "stream",
          "text": [
            "Hello, world!\n"
          ]
        }
      ],
      "source": [
        "Console.WriteLine(\"Hello, world!\");"
      ]
    },
    {
      "cell_type": "markdown",
      "metadata": {},
      "source": [
        "Console\n",
        "\n",
        "\n",
        "\n",
        "## Declare some variables\n",
        "\n",
        "Variables are how you store data in C#."
      ]
    },
    {
      "cell_type": "code",
      "execution_count": 1,
      "metadata": {
        "dotnet_interactive": {
          "language": "csharp"
        }
      },
      "outputs": [],
      "source": [
        "string aFriend = \"Bill\";\n",
        "Console.WriteLine(aFriend);"
      ]
    },
    {
      "cell_type": "markdown",
      "metadata": {},
      "source": [
        "You can assign different values to a variable, like so:"
      ]
    },
    {
      "cell_type": "code",
      "execution_count": 1,
      "metadata": {
        "dotnet_interactive": {
          "language": "csharp"
        }
      },
      "outputs": [],
      "source": [
        "aFriend = \"Maira\";\n",
        "Console.WriteLine(aFriend);"
      ]
    },
    {
      "cell_type": "markdown",
      "metadata": {},
      "source": [
        "## Work with strings\n",
        "\n",
        "The data type used above is called a `string`. It's used for textual data.\n",
        "\n",
        "You can also combine strings. In this case, we'll use `+` to combine two strings:"
      ]
    },
    {
      "cell_type": "code",
      "execution_count": 1,
      "metadata": {
        "dotnet_interactive": {
          "language": "csharp"
        }
      },
      "outputs": [],
      "source": [
        "Console.WriteLine(\"Hello \" + aFriend);"
      ]
    },
    {
      "cell_type": "markdown",
      "metadata": {},
      "source": [
        "When working with strings, you can also use [String Interpolation](https://docs.microsoft.com/dotnet/csharp/language-reference/tokens/interpolated) to combine values into a string:"
      ]
    },
    {
      "cell_type": "code",
      "execution_count": 1,
      "metadata": {
        "dotnet_interactive": {
          "language": "csharp"
        }
      },
      "outputs": [],
      "source": [
        "Console.WriteLine($\"Hello {aFriend}\");"
      ]
    },
    {
      "cell_type": "markdown",
      "metadata": {},
      "source": [
        "You're not limited to a single variable between the curly braces when using String Interpolation:"
      ]
    },
    {
      "cell_type": "code",
      "execution_count": 1,
      "metadata": {
        "dotnet_interactive": {
          "language": "csharp"
        }
      },
      "outputs": [],
      "source": [
        "string firstFriend = \"Maria\";\n",
        "string secondFriend = \"Sage\";\n",
        "Console.WriteLine($\"My friends are {firstFriend} and {secondFriend}\");"
      ]
    },
    {
      "cell_type": "markdown",
      "metadata": {},
      "source": [
        "As you explore more with strings, you'll find that strings are more than a collection of letters. You can find the length of a string using `Length`. `Length` is a property of a string and it returns the number of characters in that string:"
      ]
    },
    {
      "cell_type": "code",
      "execution_count": 1,
      "metadata": {
        "dotnet_interactive": {
          "language": "csharp"
        }
      },
      "outputs": [],
      "source": [
        "Console.WriteLine($\"The name {firstFriend} has {firstFriend.Length} letters.\");\n",
        "Console.WriteLine($\"The name {secondFriend} has {secondFriend.Length} letters.\");"
      ]
    },
    {
      "cell_type": "markdown",
      "metadata": {},
      "source": [
        "## Do more with strings\n",
        "\n",
        "You've been using a *method*, `Console.WriteLine`, to print messages. A method is a block of code that implements some action. It has a name, so you can access it.\n",
        "\n",
        "Suppose your strings have leading or trailing spaces that you don't want to display. You want to **trim** the spaces from the strings. The `Trim` method and related methods `TrimStart` and `TrimEnd` do that work. You can just use those methods to remove leading and trailing spaces."
      ]
    },
    {
      "cell_type": "code",
      "execution_count": 1,
      "metadata": {
        "dotnet_interactive": {
          "language": "csharp"
        }
      },
      "outputs": [],
      "source": [
        "string greeting = \"      Hello World!       \";\n",
        "Console.WriteLine($\"[{greeting}]\");\n",
        "\n",
        "string trimmedGreeting = greeting.TrimStart();\n",
        "Console.WriteLine($\"[{trimmedGreeting}]\");\n",
        "\n",
        "trimmedGreeting = greeting.TrimEnd();\n",
        "Console.WriteLine($\"[{trimmedGreeting}]\");\n",
        "\n",
        "trimmedGreeting = greeting.Trim();\n",
        "Console.WriteLine($\"[{trimmedGreeting}]\");"
      ]
    },
    {
      "cell_type": "markdown",
      "metadata": {},
      "source": [
        "There are other methods available to work with a string. For example, you've probably used a search and replace command in an editor or word processor before. The `Replace` method does something similar in a string. It searches for a substring and replaces it with different text. The `Replace` method takes two parameters. These are the strings between the parentheses. The first string is the text to search for. The second string is the text to replace it with:"
      ]
    },
    {
      "cell_type": "code",
      "execution_count": 1,
      "metadata": {
        "dotnet_interactive": {
          "language": "csharp"
        }
      },
      "outputs": [],
      "source": [
        "string sayHello = \"Hello World!\";\n",
        "Console.WriteLine(sayHello);\n",
        "sayHello = sayHello.Replace(\"Hello\", \"Greetings\");\n",
        "Console.WriteLine(sayHello);"
      ]
    },
    {
      "cell_type": "markdown",
      "metadata": {},
      "source": [
        "Two other useful methods make a string ALL CAPS or all lower case:"
      ]
    },
    {
      "cell_type": "code",
      "execution_count": 1,
      "metadata": {
        "dotnet_interactive": {
          "language": "csharp"
        }
      },
      "outputs": [],
      "source": [
        "Console.WriteLine(sayHello.ToUpper());\n",
        "Console.WriteLine(sayHello.ToLower());"
      ]
    },
    {
      "cell_type": "markdown",
      "metadata": {},
      "source": [
        "## Search strings\n",
        "\n",
        "The other part of a search and replace operation is to find text in a string. You can use the `Contains` method for searching. It tells you if a string contains a substring inside it:"
      ]
    },
    {
      "cell_type": "code",
      "execution_count": 1,
      "metadata": {
        "dotnet_interactive": {
          "language": "csharp"
        }
      },
      "outputs": [],
      "source": [
        "string songLyrics = \"You say goodbye, and I say hello\";\n",
        "Console.WriteLine(songLyrics.Contains(\"goodbye\"));\n",
        "Console.WriteLine(songLyrics.Contains(\"greetings\"));"
      ]
    },
    {
      "cell_type": "code",
      "execution_count": 1,
      "metadata": {
        "dotnet_interactive": {
          "language": "csharp"
        }
      },
      "outputs": [],
      "source": []
    }
  ],
  "metadata": {
    "kernelspec": {
      "display_name": ".NET (C#)",
      "language": "C#",
      "name": ".net-csharp"
    },
    "language_info": {
      "file_extension": ".cs",
      "mimetype": "text/x-csharp",
      "name": "C#",
      "pygments_lexer": "csharp",
      "version": "8.0"
    }
  },
  "nbformat": 4,
  "nbformat_minor": 4
}